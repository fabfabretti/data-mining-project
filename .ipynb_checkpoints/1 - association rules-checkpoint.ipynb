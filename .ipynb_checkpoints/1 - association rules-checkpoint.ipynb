{
 "cells": [
  {
   "cell_type": "markdown",
   "metadata": {},
   "source": [
    "## Select dataset and settings"
   ]
  },
  {
   "cell_type": "code",
   "execution_count": 1,
   "metadata": {},
   "outputs": [],
   "source": [
    "# Imports and default options\n",
    "\n",
    "import ipywidgets as widgets\n",
    "\n",
    "selected_dataset : str = \"skating\"\n",
    "selected_window : int = 3\n",
    "selected_stride : int = 5\n",
    "selected_items : list = [12,11,12]\n",
    "possible_rules : set = set()\n"
   ]
  },
  {
   "cell_type": "markdown",
   "metadata": {},
   "source": [
    "## Utility functions"
   ]
  },
  {
   "cell_type": "code",
   "execution_count": 2,
   "metadata": {},
   "outputs": [],
   "source": [
    "# Loads dataset function\n",
    "def load_dataset(selected_dataset):\n",
    "    dataset=[]\n",
    "    with open(selected_dataset+'.txt') as f:\n",
    "        lines = f.read().splitlines()\n",
    "        for l in lines[:50]:\n",
    "            dataset.append(l.replace(\"\\t\",\" \").split(\" \"))\n",
    "    #print(f\"Dataset {selected_dataset} loaded!\")\n",
    "    return dataset"
   ]
  },
  {
   "cell_type": "code",
   "execution_count": 3,
   "metadata": {},
   "outputs": [],
   "source": [
    "# Finds all unique items in a dataset\n",
    "def check_possible_rules(selected_dataset):\n",
    "    possible_rules = set()\n",
    "    for x in load_dataset(selected_dataset):\n",
    "        for y in x:\n",
    "            possible_rules.add(y)\n",
    "    return possible_rules\n",
    "\n",
    "possible_rules = check_possible_rules(selected_dataset)"
   ]
  },
  {
   "cell_type": "code",
   "execution_count": 4,
   "metadata": {},
   "outputs": [],
   "source": [
    "# Checks if a string is substring (with the definition given in class) of another\n",
    "def trova_sottostringa(sottostringa, lista):\n",
    "    sottostringa = list(sottostringa)\n",
    "    lista = list(lista)\n",
    "    indice_sottostringa = 0\n",
    "    for lettera in lista:\n",
    "        if lettera == sottostringa[indice_sottostringa]:\n",
    "            indice_sottostringa += 1\n",
    "            if indice_sottostringa == len(sottostringa):\n",
    "                return True\n",
    "    return False"
   ]
  },
  {
   "cell_type": "markdown",
   "metadata": {},
   "source": [
    "## Mini UI for quicker selection of parameters"
   ]
  },
  {
   "cell_type": "code",
   "execution_count": 5,
   "metadata": {},
   "outputs": [
    {
     "data": {
      "application/vnd.jupyter.widget-view+json": {
       "model_id": "01dd48550939449ba97381d92951c04c",
       "version_major": 2,
       "version_minor": 0
      },
      "text/plain": [
       "Select(description='Dataset:', options=('skating', 'question'), value='skating')"
      ]
     },
     "metadata": {},
     "output_type": "display_data"
    },
    {
     "data": {
      "application/vnd.jupyter.widget-view+json": {
       "model_id": "b418e490d6944dbf9e5edb169d10c5d0",
       "version_major": 2,
       "version_minor": 0
      },
      "text/plain": [
       "IntSlider(value=3, description='Window: ', max=10, min=2)"
      ]
     },
     "metadata": {},
     "output_type": "display_data"
    },
    {
     "data": {
      "application/vnd.jupyter.widget-view+json": {
       "model_id": "153d4d86eb9845b48acf8d19aa59cc8f",
       "version_major": 2,
       "version_minor": 0
      },
      "text/plain": [
       "IntSlider(value=5, description='Stride: ', max=10, min=1)"
      ]
     },
     "metadata": {},
     "output_type": "display_data"
    },
    {
     "data": {
      "application/vnd.jupyter.widget-view+json": {
       "model_id": "0f57c5b412b1488591bcd46600f9479c",
       "version_major": 2,
       "version_minor": 0
      },
      "text/plain": [
       "Label(value='Rule to check (note: you can reorder the items)')"
      ]
     },
     "metadata": {},
     "output_type": "display_data"
    },
    {
     "data": {
      "application/vnd.jupyter.widget-view+json": {
       "model_id": "1f77a70aba0a4505ac2d4f6506315aa1",
       "version_major": 2,
       "version_minor": 0
      },
      "text/plain": [
       "TagsInput(value=['1', '10', '11'], allow_duplicates=False, allowed_tags=['64', '2', '25', '26', '43', '38', '2…"
      ]
     },
     "metadata": {},
     "output_type": "display_data"
    },
    {
     "name": "stdout",
     "output_type": "stream",
     "text": [
      "\n"
     ]
    }
   ],
   "source": [
    "# Widgets\n",
    "input_dataset = widgets.Select(\n",
    "    options=['skating','question'],\n",
    "    value='skating',\n",
    "    description='Dataset:',\n",
    "    disabled=False,\n",
    ")\n",
    "input_window = widgets.IntSlider(\n",
    "    value=selected_window,\n",
    "    min=2,\n",
    "    max=10,\n",
    "    step=1,\n",
    "    description='Window: ',\n",
    "    disabled=False,\n",
    "    continuous_update=True,\n",
    "    orientation='horizontal',\n",
    "    readout=True,\n",
    "    readout_format='d'\n",
    ")\n",
    "input_stride = widgets.IntSlider(\n",
    "    value=selected_stride,\n",
    "    min=1,\n",
    "    max=10,\n",
    "    step=1,\n",
    "    description='Stride: ',\n",
    "    disabled=False,\n",
    "    continuous_update=True,\n",
    "    orientation='horizontal',\n",
    "    readout=True,\n",
    "    readout_format='d'\n",
    ")\n",
    "input_items = widgets.TagsInput(\n",
    "    description= 'Rule to be checked: ',\n",
    "    value=sorted(list(possible_rules))[0:input_window.value],\n",
    "    allowed_tags=list(possible_rules),\n",
    "    allow_duplicates=False\n",
    ")\n",
    "\n",
    "\n",
    "# Updating values\n",
    "def on_value_change(change):\n",
    "    global input_window, input_dataset, input_items\n",
    "    \n",
    "    possible_rules = check_possible_rules(input_dataset.value)\n",
    "    \n",
    "    input_items.value = sorted(list(possible_rules)[0:input_window.value])\n",
    "    \n",
    "    input_items.allowed_tags = sorted(list(possible_rules))\n",
    "    \n",
    "def on_dataset_change(change):\n",
    "    global input_window, input_dataset, input_items\n",
    "    \n",
    "    possible_rules = check_possible_rules(input_dataset.value)\n",
    "    \n",
    "    input_items.allowed_tags = sorted(list(possible_rules))\n",
    "    \n",
    "    input_items.value = sorted(list(possible_rules)[0:input_window.value])\n",
    "\n",
    "\n",
    "# Attaching update functions\n",
    "input_window.observe(on_value_change, names='value')\n",
    "input_dataset.observe(on_dataset_change, names='value')\n",
    "\n",
    "button = widgets.Button(\n",
    "    description='Calculate support',\n",
    "    disabled=False,\n",
    "    button_style='', \n",
    "    tooltip='Calculate support',\n",
    "    icon='check'\n",
    ")\n",
    "\n",
    "# Display widgets\n",
    "display(input_dataset,input_window,input_stride,widgets.Label(value=\"Rule to check (note: you can reorder the items)\"),input_items)\n",
    "print(\"\")\n",
    "#display(button)\n",
    "\n",
    "\n",
    "\n"
   ]
  },
  {
   "cell_type": "markdown",
   "metadata": {},
   "source": [
    "## Compute support value"
   ]
  },
  {
   "cell_type": "code",
   "execution_count": 6,
   "metadata": {},
   "outputs": [
    {
     "name": "stdout",
     "output_type": "stream",
     "text": [
      "Window 10, stride 5, dataset question\n",
      "Looking for string ['32', '35']\n"
     ]
    }
   ],
   "source": [
    "selected_dataset = input_dataset.value\n",
    "selected_window = input_window.value\n",
    "selected_stride = input_stride.value\n",
    "selected_items = input_items.value\n",
    "possible_rules = check_possible_rules(selected_dataset)\n",
    "dataset = load_dataset(selected_dataset)\n",
    "\n",
    "print(f\"Window {selected_window}, stride {selected_stride}, dataset {selected_dataset}\")\n",
    "print(f\"Looking for string {selected_items}\")"
   ]
  },
  {
   "cell_type": "code",
   "execution_count": 7,
   "metadata": {},
   "outputs": [
    {
     "name": "stdout",
     "output_type": "stream",
     "text": [
      "1 entries found\n",
      "La regola ['32', '35'] viene trovata in 1 window su 29 window totali; ha quindi un supporto di 0.034\n"
     ]
    }
   ],
   "source": [
    "# 1. Calcolo di tutte le sottostringhe\n",
    "substrings = set()\n",
    "# scorre the array in batches of windows and saves the window in substring\n",
    "for item in dataset:\n",
    "    i = 0\n",
    "    while i < (len(item)-selected_window):\n",
    "        j = 0\n",
    "        current_string = []\n",
    "        while j < selected_window:\n",
    "            current_string.append(item[i+j])\n",
    "            j += 1\n",
    "            \n",
    "        substrings.add(tuple(current_string))\n",
    "        i += selected_stride\n",
    "\n",
    "\n",
    "# 2. Calcolo di quante sottostringhe contengono la mia sottostringa magica\n",
    "count_found = 0\n",
    "for item in substrings:\n",
    "    if trova_sottostringa(selected_items,item):\n",
    "        #print(\"found\")\n",
    "        count_found += 1\n",
    "\n",
    "print(f\"{count_found} entries found\")\n",
    "\n",
    "\n",
    "# 3. Calcolo il supporto della mia sottostringa\n",
    "print(f\"La regola {selected_items} viene trovata in {count_found} window su {len(substrings)} window totali; ha quindi un supporto di {count_found/len(substrings):4.3f}\")\n",
    "\n"
   ]
  },
  {
   "cell_type": "code",
   "execution_count": null,
   "metadata": {},
   "outputs": [],
   "source": []
  }
 ],
 "metadata": {
  "kernelspec": {
   "display_name": "Python 3 (ipykernel)",
   "language": "python",
   "name": "python3"
  },
  "language_info": {
   "codemirror_mode": {
    "name": "ipython",
    "version": 3
   },
   "file_extension": ".py",
   "mimetype": "text/x-python",
   "name": "python",
   "nbconvert_exporter": "python",
   "pygments_lexer": "ipython3",
   "version": "3.12.1"
  }
 },
 "nbformat": 4,
 "nbformat_minor": 4
}
