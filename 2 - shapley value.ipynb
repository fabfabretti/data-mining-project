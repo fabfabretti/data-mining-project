{
 "cells": [
  {
   "cell_type": "code",
   "execution_count": 2,
   "metadata": {},
   "outputs": [
    {
     "name": "stdout",
     "output_type": "stream",
     "text": [
      "Dataset loaded. 530 entries found. First 5 entries: \n",
      "['1', '29', '21', '15', '3', '16', '17', '23', '9', '24', '25', '5', '6', '30', '31', '22', '7', '26', '2', '27', '10', '11', '28', '12', '8', '18', '19', '20', '13', '14', '32', '33', '34', '4']\n",
      "['1', '29', '23', '3', '41', '24', '27', '9', '35', '28', '25', '21', '42', '39', '43', '36', '37', '44', '40', '38', '5', '6', '26', '30', '31', '22', '2', '32', '15', '16', '19', '20', '17', '10', '13', '14', '18', '4']\n",
      "['1', '29', '21', '9', '45', '46', '27', '28', '23', '24', '25', '30', '31', '22', '2', '10', '13', '15', '14', '16', '17', '32', '33', '18', '34', '26']\n",
      "['1', '29', '41', '21', '25', '17', '26', '27', '28', '9', '35', '42', '47', '43', '36', '37', '48', '44', '30', '31', '22', '7', '2', '38', '5', '8', '6', '10', '13', '14', '18', '15', '16', '32']\n",
      "['1', '29', '51', '27', '21', '41', '17', '28', '23', '24', '22', '49', '52', '9', '35', '25', '42', '50', '43', '36', '37', '44', '26', '7', '30', '31', '2', '32', '33', '38', '5', '34', '8', '6', '18', '15', '16', '10']\n"
     ]
    }
   ],
   "source": [
    "# Loads dataset function\n",
    "def load_dataset(selected_dataset_name:str, repeat : bool):\n",
    "    dataset=[]\n",
    "    with open(selected_dataset_name+'.txt') as f:\n",
    "        lines = f.read().splitlines()\n",
    "        for l in lines:\n",
    "            seen = set()\n",
    "            curr_line = l.replace(\"\\t\",\" \").split(\" \")\n",
    "            if not repeat:\n",
    "                curr_line = [x for x in curr_line if not (x in seen or seen.add(x))]\n",
    "            dataset.append(curr_line)\n",
    "    return dataset\n",
    "\n",
    "\n",
    "dataset = load_dataset(\"skating\",False)\n",
    "print(f\"Dataset loaded. {len(dataset)} entries found. First 5 entries: \")\n",
    "for entry in dataset[:5]:\n",
    "    print(entry)"
   ]
  },
  {
   "cell_type": "code",
   "execution_count": 3,
   "metadata": {},
   "outputs": [
    {
     "name": "stdout",
     "output_type": "stream",
     "text": [
      "Rule ['41', '1', '29'] --> ['17'] has confidence 0.864.\n",
      "Antecedent support: 22\n",
      "Antecedent U consequent support: 19\n"
     ]
    }
   ],
   "source": [
    "def compute_support(dataset, rule):\n",
    "    count_rule = 0\n",
    "    for item in dataset:\n",
    "        if all(element in item for element in rule):\n",
    "            count_rule+=1\n",
    "    return count_rule\n",
    "\n",
    "def compute_confidence(dataset:list, antecedent, consequent)->float:\n",
    "    antecedent = [antecedent] if not isinstance(antecedent,list) else antecedent # solo perché a volte non è già una lista e non gli piace\n",
    "    support_antecedent = compute_support(dataset,antecedent) \n",
    "    support_consequent = compute_support(dataset,antecedent+consequent)\n",
    "\n",
    "    #print(f\"{antecedent} has support {support_antecedent}.\\n{antecedent},{consequent} has support {support_consequent}.\")\n",
    "    return support_consequent/support_antecedent\n",
    "\n",
    "selected_rule_antecedent = [\"41\",\"1\",\"29\"]\n",
    "selected_rule_consequent = [\"17\"]\n",
    "\n",
    "\n",
    "confidence = compute_confidence(dataset,selected_rule_antecedent,selected_rule_consequent)\n",
    "\n",
    "print(f\"Rule {selected_rule_antecedent} --> {selected_rule_consequent} has confidence {confidence:4.3}.\\nAntecedent support: {compute_support(dataset,selected_rule_antecedent)}\\nAntecedent U consequent support: {compute_support(dataset,selected_rule_antecedent+selected_rule_consequent)}\")"
   ]
  },
  {
   "cell_type": "code",
   "execution_count": 14,
   "metadata": {},
   "outputs": [
    {
     "name": "stdout",
     "output_type": "stream",
     "text": [
      "Permutation\t\t| \t 1\t| \t 29\t| \t 41\t\n",
      "---------------------------------------------------------------------\n",
      "('41', '1', '29')\t|        0.0\t|      -0.86\t|       0.86\t\n",
      "('41', '29', '1')\t|      -0.86\t|        0.0\t|       0.86\t\n",
      "('1', '41', '29')\t|       0.92\t|      -0.92\t|     -0.053\t\n",
      "('1', '29', '41')\t|       0.92\t|        0.0\t|      -0.97\t\n",
      "('29', '41', '1')\t|      -0.92\t|       0.92\t|     -0.053\t\n",
      "('29', '1', '41')\t|   -0.00047\t|       0.92\t|      -0.97\t\n",
      "---------------------------------------------------------------------\n",
      "Average\t\t\t|    0.0087\t|     0.009\t|    -0.053\t"
     ]
    }
   ],
   "source": [
    "from itertools import permutations\n",
    "rule_permutations = list(permutations(selected_rule_antecedent))\n",
    "\n",
    "\n",
    "class ShapleyTable:\n",
    "    table = {}\n",
    "    def __init__(dataset, antecedent, consequent):\n",
    "        pass\n",
    "    def __str__():\n",
    "        pass\n",
    "\n",
    "# Initialize the table for computing shape\n",
    "def init_conf_table(dataset, antecedent, consequent):\n",
    "    table = {}\n",
    "    # For each permutation of the rule\n",
    "    for permutation in rule_permutations:\n",
    "        ###print(f\"--Permutation {permutation}:\")\n",
    "        # Initialize a dict with the row of the table\n",
    "        shapley_values_rows = {}\n",
    "\n",
    "        # for each increasing portion of the permutation (es. ABC --> A, AB, ABC)\n",
    "        for i in range(0,len(permutation)):\n",
    "            # Extract the portion of the permutation\n",
    "            to_compute = list(permutation[:i+1])\n",
    "            # Compute the starting shapley value, aka the confidence of the biggest subset of the permutation (es. ABC --> ABC)\n",
    "            curr_value = compute_confidence(dataset,to_compute,consequent) \n",
    "\n",
    "            \n",
    "            ###print(f\"> computing {to_compute}: {to_compute}{curr_value:4.2}\",end=\"\")\n",
    "            # Now substract all the smaller ones, in order (es. ABC --> subtract AB and A)\n",
    "            for j in range(0,len(to_compute)-1):\n",
    "                curr_value-=compute_confidence(dataset,to_compute[:j+1],consequent)\n",
    "                ###print(f\" - {to_compute[:j+1]}{compute_confidence(dataset,to_compute[:j+1],consequent):4.2}\",end=\"\")\n",
    "\n",
    "            ###print(\"\")            \n",
    "\n",
    "            shapley_values_rows[permutation[i]]= curr_value\n",
    "\n",
    "\n",
    "        table[permutation] = shapley_values_rows       \n",
    "\n",
    "        #print(confidence_table_values)\n",
    "    return table\n",
    "\n",
    "\n",
    "\n",
    "\n",
    "def decent_print(shapley_table:dict):\n",
    "    \n",
    "    #header\n",
    "    print(\"Permutation\\t\\t\",end=\"\")\n",
    "    for item in sorted(selected_rule_antecedent):\n",
    "        print(f\"| \\t {item}\\t\", end=\"\")\n",
    "    print(\"\")  \n",
    "\n",
    "    print(\"-----------------------\"*len(selected_rule_antecedent))\n",
    "\n",
    "    for permutation in shapley_table:\n",
    "        print(f\"{permutation}\\t\",end=\"\")\n",
    "        for item in sorted(selected_rule_antecedent):\n",
    "            print(f\"| {shapley_table[permutation][item]:10.2}\\t\",end=\"\")\n",
    "        print(\"\")\n",
    "\n",
    "    print(\"-----------------------\"*len(selected_rule_antecedent))\n",
    "\n",
    "    print(\"Average\\t\\t\\t\",end=\"\")\n",
    "    for item in sorted(selected_rule_antecedent):\n",
    "        average = []\n",
    "        for permutation in shapley_table:\n",
    "            average.append(shapley_table[permutation][item])\n",
    "        #print(f\"{item}---->{average}\")\n",
    "        print(f\"|{sum(average) / float(len(average)):10.2}\\t\",end=\"\")\n",
    "\n",
    "a=init_conf_table(dataset, selected_rule_antecedent, selected_rule_consequent)\n",
    "\n",
    "decent_print(a)\n",
    "\n",
    "\n"
   ]
  },
  {
   "cell_type": "code",
   "execution_count": 5,
   "metadata": {},
   "outputs": [
    {
     "ename": "TypeError",
     "evalue": "init_conf_table() missing 3 required positional arguments: 'dataset', 'antecedent', and 'consequent'",
     "output_type": "error",
     "traceback": [
      "\u001b[1;31m---------------------------------------------------------------------------\u001b[0m",
      "\u001b[1;31mTypeError\u001b[0m                                 Traceback (most recent call last)",
      "Cell \u001b[1;32mIn[5], line 11\u001b[0m\n\u001b[0;32m      7\u001b[0m             \u001b[38;5;28mprint\u001b[39m(\u001b[38;5;124mf\u001b[39m\u001b[38;5;124m\"\u001b[39m\u001b[38;5;132;01m{\u001b[39;00melement\u001b[38;5;132;01m}\u001b[39;00m\u001b[38;5;124m:\u001b[39m\u001b[38;5;132;01m{\u001b[39;00m\u001b[38;5;28mfloat\u001b[39m(confidence_table[permutation][element])\u001b[38;5;132;01m:\u001b[39;00m\u001b[38;5;124m4.2\u001b[39m\u001b[38;5;132;01m}\u001b[39;00m\u001b[38;5;130;01m\\t\u001b[39;00m\u001b[38;5;124m   \u001b[39m\u001b[38;5;124m\"\u001b[39m,end\u001b[38;5;241m=\u001b[39m\u001b[38;5;124m\"\u001b[39m\u001b[38;5;124m\"\u001b[39m)\n\u001b[0;32m      8\u001b[0m         \u001b[38;5;28mprint\u001b[39m(\u001b[38;5;124m\"\u001b[39m\u001b[38;5;124m\"\u001b[39m)\n\u001b[1;32m---> 11\u001b[0m confidence_table \u001b[38;5;241m=\u001b[39m \u001b[43minit_conf_table\u001b[49m\u001b[43m(\u001b[49m\u001b[43m)\u001b[49m\n\u001b[0;32m     13\u001b[0m \u001b[38;5;66;03m# riga\u001b[39;00m\n\u001b[0;32m     14\u001b[0m \u001b[38;5;28;01mfor\u001b[39;00m permutation \u001b[38;5;129;01min\u001b[39;00m confidence_table:\n",
      "\u001b[1;31mTypeError\u001b[0m: init_conf_table() missing 3 required positional arguments: 'dataset', 'antecedent', and 'consequent'"
     ]
    }
   ],
   "source": [
    "column_order = sorted(selected_rule_antecedent)\n",
    "\n",
    "def print_conf_table(confidence_table):\n",
    "    for permutation in confidence_table:\n",
    "        print(f\"{permutation}  \", end=\"\")\n",
    "        for element in sorted(permutation):\n",
    "            print(f\"{element}:{float(confidence_table[permutation][element]):4.2}\\t   \",end=\"\")\n",
    "        print(\"\")\n",
    "\n",
    "\n",
    "confidence_table = init_conf_table()\n",
    "\n",
    "# riga\n",
    "for permutation in confidence_table:\n",
    "    prec_calc = 0\n",
    "    prec_rule = []\n",
    "    for element in permutation:\n",
    "       # print(f\"curr rule:{[element]+prec_rule}\\tprec rule:{prec_rule}\\n\\t\\tprec calc:{prec_calc}\\n\\t\\tconf{[element]+prec_rule}:{calculate_confidence(dataset,[element] + prec_rule,selected_rule_consequent)}-{prec_calc}\"   )\n",
    "        confidence_table[permutation][element]=\\\n",
    "            compute_confidence(dataset,[element] + prec_rule,selected_rule_consequent)-prec_calc\n",
    "        prec_calc += confidence_table[permutation][element]\n",
    "        prec_rule.append(element)\n",
    "    \n",
    "print_conf_table(confidence_table)"
   ]
  },
  {
   "cell_type": "code",
   "execution_count": null,
   "metadata": {},
   "outputs": [
    {
     "name": "stdout",
     "output_type": "stream",
     "text": [
      "{'18': 0.4095637835791547, '5': 0.3654749896642356, '725': 1.1780862267566097}\n"
     ]
    }
   ],
   "source": [
    "\n",
    "# calcola media per colonna\n",
    "avgs = {key: 0 for key in column_order}\n",
    "for permutation in confidence_table:\n",
    "    for column,shapley in confidence_table[permutation].items():\n",
    "        avgs[column]+=shapley / (len(column_order))\n",
    "\n",
    "print(avgs)"
   ]
  }
 ],
 "metadata": {
  "kernelspec": {
   "display_name": "Python 3 (ipykernel)",
   "language": "python",
   "name": "python3"
  },
  "language_info": {
   "codemirror_mode": {
    "name": "ipython",
    "version": 3
   },
   "file_extension": ".py",
   "mimetype": "text/x-python",
   "name": "python",
   "nbconvert_exporter": "python",
   "pygments_lexer": "ipython3",
   "version": "3.12.1"
  }
 },
 "nbformat": 4,
 "nbformat_minor": 4
}
