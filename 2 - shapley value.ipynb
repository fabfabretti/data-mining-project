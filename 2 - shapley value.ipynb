{
 "cells": [
  {
   "cell_type": "markdown",
   "metadata": {},
   "source": [
    "# Esercizio 2\n",
    "Calcolare gli *shapley values* di una regola di associazione usando come metrica la *confidence*."
   ]
  },
  {
   "cell_type": "markdown",
   "metadata": {},
   "source": [
    "0. Carichiamo il dataset"
   ]
  },
  {
   "cell_type": "code",
   "execution_count": 45,
   "metadata": {},
   "outputs": [],
   "source": [
    "# Loads dataset function\n",
    "def load_dataset(selected_dataset_name:str, repeat : bool, verbose : bool = False):\n",
    "    dataset=[]\n",
    "    with open('datasets/'+selected_dataset_name+'.txt') as f:\n",
    "        lines = f.read().splitlines()\n",
    "        for l in lines:\n",
    "            seen = set()\n",
    "            curr_line = l.replace(\"\\t\",\" \").split(\" \")\n",
    "            if not repeat:\n",
    "                curr_line = [x for x in curr_line if not (x in seen or seen.add(x))]\n",
    "            dataset.append(curr_line)\n",
    "    print(f\"Dataset loaded. {len(dataset)} entries found.\")\n",
    "    if(verbose):\n",
    "        print(\"Prime 5 entries:\")\n",
    "        for entry in dataset[:5]:\n",
    "            print(entry)\n",
    "    return dataset"
   ]
  },
  {
   "cell_type": "markdown",
   "metadata": {},
   "source": [
    "1. Funzioni di supporto: calcolo supporto e confidenza, oggetto \"Shapley table\" per calcolare i valori di Shapley"
   ]
  },
  {
   "cell_type": "code",
   "execution_count": 29,
   "metadata": {},
   "outputs": [],
   "source": [
    "def compute_support(dataset, rule):\n",
    "    count_rule = 0\n",
    "    for item in dataset:\n",
    "        if all(element in item for element in rule):\n",
    "            count_rule+=1\n",
    "    return count_rule\n",
    "\n",
    "def compute_confidence(dataset:list, antecedent, consequent)->float:\n",
    "    antecedent = [antecedent] if not isinstance(antecedent,list) else antecedent # solo perché a volte non è già una lista e non gli piace\n",
    "    support_antecedent = compute_support(dataset,antecedent) \n",
    "    support_consequent = compute_support(dataset,antecedent+consequent)\n",
    "    return support_consequent/support_antecedent\n"
   ]
  },
  {
   "cell_type": "code",
   "execution_count": 30,
   "metadata": {},
   "outputs": [],
   "source": [
    "from itertools import permutations\n",
    "\n",
    "class ShapleyTable:\n",
    "    def __init__(self, dataset, antecedent, consequent, verbose=False):\n",
    "        table = {} # this will be out final table\n",
    "        rule_permutations = list(permutations(antecedent)) # All permutations\n",
    "        self.antecedent = antecedent\n",
    "        self.consequent = consequent\n",
    "\n",
    "        # For each permutation of the rule\n",
    "        for permutation in rule_permutations:\n",
    "\n",
    "            if ( verbose):\n",
    "                print(f\"--Permutation {permutation}:\")\n",
    "\n",
    "            # Initialize a dict with the *row* of the table\n",
    "            shapley_values_rows = {}\n",
    "\n",
    "            # for each increasing portion of the permutation... (es. ABC --> A, AB, ABC)\n",
    "            for i in range(0,len(permutation)):\n",
    "                # ...Extract the portion of the permutation...\n",
    "                to_compute = list(permutation[:i+1])\n",
    "                # ... and compute the starting shapley value, aka the confidence of the biggest subset of the permutation (es. ABC --> ABC)\n",
    "                curr_value = compute_confidence(dataset,to_compute,consequent) \n",
    "\n",
    "                if(verbose):\n",
    "                    print(f\"> computing {to_compute}: {to_compute}{curr_value:4.2}\",end=\"\")\n",
    "\n",
    "                # Now substract all the smaller ones, in order (es. ABC --> subtract AB and A)\n",
    "                for j in range(0,len(to_compute)-1):\n",
    "                    curr_value-=compute_confidence(dataset,to_compute[:j+1],consequent)\n",
    "                    \n",
    "                    if(verbose):\n",
    "                        print(f\" - {to_compute[:j+1]}{compute_confidence(dataset,to_compute[:j+1],consequent):4.2}\",end=\"\")\n",
    "\n",
    "                if (verbose):\n",
    "                    print(\"\")            \n",
    "\n",
    "                shapley_values_rows[permutation[i]]= curr_value # assign computed value to column in current line\n",
    "\n",
    "            table[permutation] = shapley_values_rows     # assign completed row to the permutation   \n",
    "\n",
    "        self.table=table  \n",
    "        \n",
    "    def print(self):\n",
    "        #header\n",
    "        print(\"-----------------------\"*len(self.antecedent))\n",
    "        print(\"Permutation\\t\\t\",end=\"\")\n",
    "        for item in sorted(self.antecedent):\n",
    "            print(f\"| \\t {item}\\t\", end=\"\")\n",
    "        print(\"\")  \n",
    "\n",
    "        print(\"-----------------------\"*len(self.antecedent))\n",
    "        \n",
    "        #body\n",
    "        for permutation in self.table:\n",
    "            print(f\"{permutation}\\t\",end=\"\")\n",
    "            for item in sorted(self.antecedent):\n",
    "                print(f\"| {self.table[permutation][item]:10.2}\\t\",end=\"\")\n",
    "            print(\"\")\n",
    "\n",
    "        print(\"-----------------------\"*len(self.antecedent))\n",
    "\n",
    "        #avg\n",
    "        print(\"Average\\t\\t\\t\",end=\"\")\n",
    "        for item in sorted(self.antecedent):\n",
    "            average = []\n",
    "            for permutation in self.table:\n",
    "                average.append(self.table[permutation][item])\n",
    "            print(f\"|{sum(average) / float(len(average)):10.2}\\t\",end=\"\")\n",
    "        print(\"\")\n",
    "        print(\"-----------------------\"*len(self.antecedent))\n",
    "\n",
    "    def getWinner(self):\n",
    "        averages = {}\n",
    "        for item in sorted(self.antecedent):\n",
    "            average = []\n",
    "            for permutation in self.table:\n",
    "                average.append(self.table[permutation][item])\n",
    "            averages[item]=sum(average) / float(len(average))\n",
    "        \n",
    "        return(max(averages.items(), key=lambda x: x[1]))\n"
   ]
  },
  {
   "cell_type": "markdown",
   "metadata": {},
   "source": [
    "3. Calcolo vero e proprio"
   ]
  },
  {
   "cell_type": "code",
   "execution_count": 31,
   "metadata": {},
   "outputs": [],
   "source": [
    "# Selezione dei parametri\n",
    "selected_dataset = \"skating\"\n",
    "selected_rule_antecedent = [\"41\",\"1\",\"29\"]\n",
    "selected_rule_consequent = [\"17\"]\n"
   ]
  },
  {
   "cell_type": "code",
   "execution_count": 46,
   "metadata": {},
   "outputs": [
    {
     "name": "stdout",
     "output_type": "stream",
     "text": [
      "Dataset loaded. 530 entries found.\n",
      "\n",
      "--Rule: ['41', '1', '29']-->['17']--\n",
      "Antecedent support: 22\n",
      "Antecedent U consequent support: 19\n",
      "Confidence: 0.864.\n",
      "---------------------------------------------------------------------\n",
      "Permutation\t\t| \t 1\t| \t 29\t| \t 41\t\n",
      "---------------------------------------------------------------------\n",
      "('41', '1', '29')\t|        0.0\t|      -0.86\t|       0.86\t\n",
      "('41', '29', '1')\t|      -0.86\t|        0.0\t|       0.86\t\n",
      "('1', '41', '29')\t|       0.92\t|      -0.92\t|     -0.053\t\n",
      "('1', '29', '41')\t|       0.92\t|        0.0\t|      -0.97\t\n",
      "('29', '41', '1')\t|      -0.92\t|       0.92\t|     -0.053\t\n",
      "('29', '1', '41')\t|   -0.00047\t|       0.92\t|      -0.97\t\n",
      "---------------------------------------------------------------------\n",
      "Average\t\t\t|    0.0087\t|     0.009\t|    -0.053\t\n",
      "---------------------------------------------------------------------\n",
      "The most influential item in the rule is 29 with value 0.008969560269191509\n"
     ]
    }
   ],
   "source": [
    "# Calcolo vero e proprio\n",
    "dataset = load_dataset(selected_dataset,False)\n",
    "\n",
    "print(f\"\\n--Rule: {selected_rule_antecedent}-->{selected_rule_consequent}--\")\n",
    "print(f\"Antecedent support: {compute_support(dataset,selected_rule_antecedent)}\")\n",
    "print(f\"Antecedent U consequent support: {compute_support(dataset,selected_rule_antecedent+selected_rule_consequent)}\")\n",
    "print(f\"Confidence: {compute_confidence(dataset,selected_rule_antecedent,selected_rule_consequent):4.3}.\")\n",
    "\n",
    "\n",
    "table = ShapleyTable(dataset,selected_rule_antecedent,selected_rule_consequent)\n",
    "table.print()\n",
    "print(f\"The most influential item in the rule is {table.getWinner()[0]} with value {table.getWinner()[1]}\")"
   ]
  }
 ],
 "metadata": {
  "kernelspec": {
   "display_name": "Python 3 (ipykernel)",
   "language": "python",
   "name": "python3"
  },
  "language_info": {
   "codemirror_mode": {
    "name": "ipython",
    "version": 3
   },
   "file_extension": ".py",
   "mimetype": "text/x-python",
   "name": "python",
   "nbconvert_exporter": "python",
   "pygments_lexer": "ipython3",
   "version": "3.12.1"
  }
 },
 "nbformat": 4,
 "nbformat_minor": 4
}
