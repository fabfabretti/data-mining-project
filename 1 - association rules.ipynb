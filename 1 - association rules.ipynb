{
 "cells": [
  {
   "cell_type": "markdown",
   "metadata": {},
   "source": [
    "## Select dataset and settings"
   ]
  },
  {
   "cell_type": "markdown",
   "metadata": {},
   "source": [
    "## Utility functions"
   ]
  },
  {
   "cell_type": "code",
   "execution_count": null,
   "metadata": {},
   "outputs": [],
   "source": [
    "# Finds all unique items in a dataset\n",
    "def find_unique_items(dataset):\n",
    "    possible_rules = set()\n",
    "    for x in dataset:\n",
    "        for y in x:\n",
    "            possible_rules.add(y)\n",
    "    return possible_rules\n"
   ]
  },
  {
   "cell_type": "code",
   "execution_count": 76,
   "metadata": {},
   "outputs": [
    {
     "name": "stdout",
     "output_type": "stream",
     "text": [
      "'co' è dentro 'ciao': True. \n",
      "'coo' è dentro 'ciao': False\n"
     ]
    }
   ],
   "source": []
  },
  {
   "cell_type": "markdown",
   "metadata": {},
   "source": [
    "## Compute support value"
   ]
  },
  {
   "cell_type": "code",
   "execution_count": 64,
   "metadata": {},
   "outputs": [
    {
     "name": "stdout",
     "output_type": "stream",
     "text": [
      "Window 10, stride 3, dataset skating\n",
      "Looking for string ['1', '29']\n"
     ]
    }
   ],
   "source": [
    "# All parameters\n",
    "\n",
    "selected_dataset : str = \"skating\" # skating, question\n",
    "selected_window : int = 10\n",
    "selected_stride : int = 3\n",
    "selected_items : list = [\"1\",\"29\"] # Regola da verificare\n",
    "possible_rules : set = set()\n",
    "\n",
    "\n",
    "print(f\"Window {selected_window}, stride {selected_stride}, dataset {selected_dataset}\")\n",
    "print(f\"Looking for string {selected_items}\")"
   ]
  },
  {
   "cell_type": "code",
   "execution_count": 65,
   "metadata": {},
   "outputs": [
    {
     "name": "stdout",
     "output_type": "stream",
     "text": [
      "Dataset skating loaded! 530 entries.\n",
      "Sample entry: ['1', '29', '21', '15', '3', '1', '16', '17', '23', '9', '24', '25', '5', '6', '30', '31', '22', '7', '26', '2', '27', '10', '11', '28', '25', '12', '9', '8', '18', '15', '16', '19', '20', '17', '18', '15', '10', '13', '14', '9', '16', '17', '10', '18', '15', '32', '33', '16', '17', '26', '34', '31', '4', '18', '15', '16', '32']\n"
     ]
    }
   ],
   "source": [
    "# Load  dataset from .txt\n",
    "def load_dataset(selected_dataset)-> list: \n",
    "    dataset = []\n",
    "    with open(selected_dataset+'.txt') as f:\n",
    "        lines = f.read().splitlines()\n",
    "        for l in lines: \n",
    "            dataset.append(l.replace(\"\\t\",\" \").split(\" \"))\n",
    "    print(f\"Dataset {selected_dataset} loaded! {len(dataset)} entries.\")\n",
    "    print(f\"Sample entry: {dataset[0]}\")\n",
    "    return dataset\n",
    "\n",
    "dataset = load_dataset(\"skating\")"
   ]
  },
  {
   "cell_type": "code",
   "execution_count": 50,
   "metadata": {},
   "outputs": [],
   "source": [
    "#???????possible_rules = find_unique_items(dataset)\n"
   ]
  },
  {
   "cell_type": "markdown",
   "metadata": {},
   "source": [
    "1. Trovo tutte le possibili sottosequenze come definite in classe (via window/stride)"
   ]
  },
  {
   "cell_type": "code",
   "execution_count": 92,
   "metadata": {},
   "outputs": [
    {
     "name": "stdout",
     "output_type": "stream",
     "text": [
      "Ho generato 7271 sequenze. Prime 10 sottosequenze generate: \n",
      "('1', '29', '21', '15', '3', '1', '16', '17', '23', '9')\n",
      "('15', '3', '1', '16', '17', '23', '9', '24', '25', '5')\n",
      "('16', '17', '23', '9', '24', '25', '5', '6', '30', '31')\n",
      "('9', '24', '25', '5', '6', '30', '31', '22', '7', '26')\n",
      "('5', '6', '30', '31', '22', '7', '26', '2', '27', '10')\n",
      "('31', '22', '7', '26', '2', '27', '10', '11', '28', '25')\n",
      "('26', '2', '27', '10', '11', '28', '25', '12', '9', '8')\n",
      "('10', '11', '28', '25', '12', '9', '8', '18', '15', '16')\n",
      "('25', '12', '9', '8', '18', '15', '16', '19', '20', '17')\n",
      "('8', '18', '15', '16', '19', '20', '17', '18', '15', '10')\n"
     ]
    }
   ],
   "source": [
    "def generate_all_substring(window:int,stride:int,dataset:list)->list:\n",
    "    substrings = []\n",
    "    for item in dataset: # riga/entry\n",
    "        i = 0\n",
    "        while i < (len(item)-window+1):\n",
    "            j = 0\n",
    "            current_string = []\n",
    "            while j < window:\n",
    "                current_string.append(item[i+j])\n",
    "                j += 1\n",
    "            substrings.append(tuple(current_string))\n",
    "            i += stride\n",
    "    print(f\"Ho generato {len(substrings)} sequenze. Prime 10 sottosequenze generate: \")\n",
    "    [print(entry) for entry in substrings[:10]]\n",
    "    return(substrings)\n",
    "\n",
    "substrings = generate_all_substring(selected_window,selected_stride,dataset)"
   ]
  },
  {
   "cell_type": "markdown",
   "metadata": {},
   "source": [
    "2. Calcolo quante sottostringhe contengono la mia sottostringa magica, usando una funzioncina apposita."
   ]
  },
  {
   "cell_type": "code",
   "execution_count": 91,
   "metadata": {},
   "outputs": [
    {
     "name": "stdout",
     "output_type": "stream",
     "text": [
      "'co' è dentro 'ciao': True. \n",
      "'coo' è dentro 'ciao': False.\n"
     ]
    }
   ],
   "source": [
    "# Checks if a string is substring (with the definition given in class) of another\n",
    "def trova_sottostringa(sottostringa, sovrastringa)->bool:\n",
    "    sottostringa = list(sottostringa)\n",
    "    sovrastringa = list(sovrastringa)\n",
    "    indice_sottostringa = 0\n",
    "    for lettera in sovrastringa:\n",
    "        if lettera == sottostringa[indice_sottostringa]:\n",
    "            indice_sottostringa += 1\n",
    "            if indice_sottostringa == len(sottostringa):\n",
    "                return True\n",
    "    return False\n",
    "\n",
    "#For example\n",
    "print(f\"'co' è dentro 'ciao': {trova_sottostringa(\"co\",\"ciao\")}. \\n'coo' è dentro 'ciao': {trova_sottostringa(\"coo\",\"ciao\")}.\")"
   ]
  },
  {
   "cell_type": "code",
   "execution_count": 99,
   "metadata": {},
   "outputs": [
    {
     "name": "stdout",
     "output_type": "stream",
     "text": [
      "277 entries found\n",
      "La regola ['1', '29'] viene trovata in 277 sottostringhe su 7271 sottostringhe generate in totale; ha quindi un supporto di 0.038\n"
     ]
    }
   ],
   "source": [
    "def count_occurrences(substrings, rule)->int:\n",
    "    count_found = 0\n",
    "    for item in substrings:\n",
    "        if trova_sottostringa(rule,item):\n",
    "            #print(f\"Found in {item}\")\n",
    "            count_found += 1\n",
    "    print(f\"{count_found} entries found\")\n",
    "    return count_found\n",
    "\n",
    "count_found=count_occurrences(substrings,selected_items)\n",
    "\n",
    "# 3. Calcolo il supporto della mia sottostringa\n",
    "\n",
    "print(f\"La regola {selected_items} viene trovata in {count_found} sottostringhe su {len(substrings)} sottostringhe generate in totale; ha quindi un supporto di {count_found/len(substrings):4.3f}\")\n",
    "\n"
   ]
  }
 ],
 "metadata": {
  "kernelspec": {
   "display_name": "Python 3 (ipykernel)",
   "language": "python",
   "name": "python3"
  },
  "language_info": {
   "codemirror_mode": {
    "name": "ipython",
    "version": 3
   },
   "file_extension": ".py",
   "mimetype": "text/x-python",
   "name": "python",
   "nbconvert_exporter": "python",
   "pygments_lexer": "ipython3",
   "version": "3.12.1"
  }
 },
 "nbformat": 4,
 "nbformat_minor": 4
}
