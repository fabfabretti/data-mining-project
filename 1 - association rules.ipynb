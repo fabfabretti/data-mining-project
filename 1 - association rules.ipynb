{
 "cells": [
  {
   "cell_type": "markdown",
   "metadata": {},
   "source": [
    "# Esercizio 1\n",
    "Generare una funzione `count_seq` che genera una transazione di lunghezza `days` ogni `stride_days`. Conta quante di queste transazioni contenono `seq` come sottosequenza."
   ]
  },
  {
   "cell_type": "markdown",
   "metadata": {},
   "source": [
    "## Compute support value"
   ]
  },
  {
   "cell_type": "code",
   "execution_count": 1,
   "metadata": {},
   "outputs": [
    {
     "name": "stdout",
     "output_type": "stream",
     "text": [
      "Window 10, stride 3, dataset skating\n",
      "Looking for string ['1', '29']\n"
     ]
    }
   ],
   "source": [
    "# All parameters\n",
    "\n",
    "selected_dataset_name : str = \"skating\" # skating, question\n",
    "selected_window : int = 10\n",
    "selected_stride : int = 3\n",
    "selected_items : list = [\"1\",\"29\"] # Regola da verificare\n",
    "possible_rules : set = set()\n",
    "\n",
    "\n",
    "print(f\"Window {selected_window}, stride {selected_stride}, dataset {selected_dataset_name}\")\n",
    "print(f\"Looking for string {selected_items}\")"
   ]
  },
  {
   "cell_type": "code",
   "execution_count": 6,
   "metadata": {},
   "outputs": [
    {
     "name": "stdout",
     "output_type": "stream",
     "text": [
      "Dataset skating loaded! 530 entries.\n",
      "Sample entry: ['1', '29', '21', '15', '3', '1', '16', '17', '23', '9', '24', '25', '5', '6', '30', '31', '22', '7', '26', '2', '27', '10', '11', '28', '25', '12', '9', '8', '18', '15', '16', '19', '20', '17', '18', '15', '10', '13', '14', '9', '16', '17', '10', '18', '15', '32', '33', '16', '17', '26', '34', '31', '4', '18', '15', '16', '32']\n"
     ]
    }
   ],
   "source": [
    "# Load  dataset from .txt\n",
    "def load_dataset(selected_dataset)-> list: \n",
    "    dataset = []\n",
    "    with open('datasets/'+selected_dataset+'.txt') as f:\n",
    "        lines = f.read().splitlines()\n",
    "        for l in lines: \n",
    "            dataset.append(l.replace(\"\\t\",\" \").split(\" \"))\n",
    "    print(f\"Dataset {selected_dataset} loaded! {len(dataset)} entries.\")\n",
    "    print(f\"Sample entry: {dataset[0]}\")\n",
    "    return dataset\n",
    "\n",
    "dataset = load_dataset(\"skating\")"
   ]
  },
  {
   "cell_type": "markdown",
   "metadata": {},
   "source": [
    "1. Trovo tutte le possibili sottosequenze come definite in classe (via window/stride)"
   ]
  },
  {
   "cell_type": "code",
   "execution_count": 3,
   "metadata": {},
   "outputs": [
    {
     "name": "stdout",
     "output_type": "stream",
     "text": [
      "Ho generato 7271 sequenze. Prime 10 transazioni generate: \n",
      "('1', '29', '21', '15', '3', '1', '16', '17', '23', '9')\n",
      "('15', '3', '1', '16', '17', '23', '9', '24', '25', '5')\n",
      "('16', '17', '23', '9', '24', '25', '5', '6', '30', '31')\n",
      "('9', '24', '25', '5', '6', '30', '31', '22', '7', '26')\n",
      "('5', '6', '30', '31', '22', '7', '26', '2', '27', '10')\n",
      "('31', '22', '7', '26', '2', '27', '10', '11', '28', '25')\n",
      "('26', '2', '27', '10', '11', '28', '25', '12', '9', '8')\n",
      "('10', '11', '28', '25', '12', '9', '8', '18', '15', '16')\n",
      "('25', '12', '9', '8', '18', '15', '16', '19', '20', '17')\n",
      "('8', '18', '15', '16', '19', '20', '17', '18', '15', '10')\n"
     ]
    }
   ],
   "source": [
    "def generate_transactions(window:int,stride:int,dataset:list)->list:\n",
    "    substrings = []\n",
    "    for item in dataset: # riga/entry\n",
    "        i = 0\n",
    "        while i < (len(item)-window+1):\n",
    "            j = 0\n",
    "            current_string = []\n",
    "            while j < window:\n",
    "                current_string.append(item[i+j])\n",
    "                j += 1\n",
    "            substrings.append(tuple(current_string))\n",
    "            i += stride\n",
    "    print(f\"Ho generato {len(substrings)} sequenze. Prime 10 transazioni generate: \")\n",
    "    [print(entry) for entry in substrings[:10]]\n",
    "    return(substrings)\n",
    "\n",
    "all_transactions = generate_transactions(selected_window,selected_stride,dataset)"
   ]
  },
  {
   "cell_type": "markdown",
   "metadata": {},
   "source": [
    "2. Calcolo quante sottostringhe contengono la mia sottostringa magica, usando una funzioncina apposita."
   ]
  },
  {
   "cell_type": "code",
   "execution_count": 4,
   "metadata": {},
   "outputs": [
    {
     "name": "stdout",
     "output_type": "stream",
     "text": [
      "'co' è dentro 'ciao': True. \n",
      "'coo' è dentro 'ciao': False.\n"
     ]
    }
   ],
   "source": [
    "# Checks if a string is substring (with the definition given in class) of another\n",
    "def is_substring_present(sottostringa, sovrastringa)->bool:\n",
    "    sottostringa = list(sottostringa)\n",
    "    sovrastringa = list(sovrastringa)\n",
    "    indice_sottostringa = 0\n",
    "    for lettera in sovrastringa:\n",
    "        if lettera == sottostringa[indice_sottostringa]:\n",
    "            indice_sottostringa += 1\n",
    "            if indice_sottostringa == len(sottostringa):\n",
    "                return True\n",
    "    return False\n",
    "\n",
    "#For example\n",
    "print(f\"'co' è dentro 'ciao': {is_substring_present(\"co\",\"ciao\")}. \\n'coo' è dentro 'ciao': {is_substring_present(\"coo\",\"ciao\")}.\")"
   ]
  },
  {
   "cell_type": "code",
   "execution_count": 5,
   "metadata": {},
   "outputs": [
    {
     "name": "stdout",
     "output_type": "stream",
     "text": [
      "277 entries found\n",
      "La regola ['1', '29'] viene trovata in 277 transazioni su 7271 transazioni generate in totale; ha quindi un supporto di 0.038\n"
     ]
    }
   ],
   "source": [
    "def count_occurrences(substrings, rule)->int:\n",
    "    count_found = 0\n",
    "    for item in substrings:\n",
    "        if is_substring_present(rule,item):\n",
    "            #print(f\"Found in {item}\")\n",
    "            count_found += 1\n",
    "    print(f\"{count_found} entries found\")\n",
    "    return count_found\n",
    "\n",
    "count_found=count_occurrences(all_transactions,selected_items)\n",
    "\n",
    "# 3. Calcolo il supporto della mia sottostringa\n",
    "\n",
    "print(f\"La regola {selected_items} viene trovata in {count_found} transazioni su {len(all_transactions)} transazioni generate in totale; ha quindi un supporto di {count_found/len(all_transactions):4.3f}\")\n",
    "\n"
   ]
  }
 ],
 "metadata": {
  "kernelspec": {
   "display_name": "Python 3 (ipykernel)",
   "language": "python",
   "name": "python3"
  },
  "language_info": {
   "codemirror_mode": {
    "name": "ipython",
    "version": 3
   },
   "file_extension": ".py",
   "mimetype": "text/x-python",
   "name": "python",
   "nbconvert_exporter": "python",
   "pygments_lexer": "ipython3",
   "version": "3.12.1"
  }
 },
 "nbformat": 4,
 "nbformat_minor": 4
}
