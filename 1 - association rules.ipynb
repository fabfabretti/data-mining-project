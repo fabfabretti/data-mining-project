{
 "cells": [
  {
   "cell_type": "markdown",
   "metadata": {},
   "source": [
    "## Select dataset and settings"
   ]
  },
  {
   "cell_type": "code",
   "execution_count": 2,
   "metadata": {},
   "outputs": [],
   "source": [
    "# Imports and default options\n",
    "\n",
    "import ipywidgets as widgets\n",
    "\n",
    "selected_dataset : str = \"skating\"\n",
    "selected_window : int = 3\n",
    "selected_stride : int = 5\n",
    "selected_items : list = [1,29]\n",
    "possible_rules : set = set()\n"
   ]
  },
  {
   "cell_type": "markdown",
   "metadata": {},
   "source": [
    "## Utility functions"
   ]
  },
  {
   "cell_type": "code",
   "execution_count": 3,
   "metadata": {},
   "outputs": [],
   "source": [
    "# Loads dataset function\n",
    "def load_dataset(selected_dataset):\n",
    "    dataset=[]\n",
    "    with open(selected_dataset+'.txt') as f:\n",
    "        lines = f.read().splitlines()\n",
    "        for l in lines[:50]:\n",
    "            dataset.append(l.replace(\"\\t\",\" \").split(\" \"))\n",
    "    #print(f\"Dataset {selected_dataset} loaded!\")\n",
    "    return dataset"
   ]
  },
  {
   "cell_type": "code",
   "execution_count": 4,
   "metadata": {},
   "outputs": [],
   "source": [
    "# Finds all unique items in a dataset\n",
    "def check_possible_rules(selected_dataset):\n",
    "    possible_rules = set()\n",
    "    for x in load_dataset(selected_dataset):\n",
    "        for y in x:\n",
    "            possible_rules.add(y)\n",
    "    return possible_rules\n",
    "\n",
    "possible_rules = check_possible_rules(selected_dataset)"
   ]
  },
  {
   "cell_type": "code",
   "execution_count": 5,
   "metadata": {},
   "outputs": [],
   "source": [
    "# Checks if a string is substring (with the definition given in class) of another\n",
    "def trova_sottostringa(sottostringa, lista):\n",
    "    sottostringa = list(sottostringa)\n",
    "    lista = list(lista)\n",
    "    indice_sottostringa = 0\n",
    "    for lettera in lista:\n",
    "        if lettera == sottostringa[indice_sottostringa]:\n",
    "            indice_sottostringa += 1\n",
    "            if indice_sottostringa == len(sottostringa):\n",
    "                return True\n",
    "    return False"
   ]
  },
  {
   "cell_type": "markdown",
   "metadata": {},
   "source": [
    "## Mini UI for quicker selection of parameters"
   ]
  },
  {
   "cell_type": "code",
   "execution_count": 6,
   "metadata": {},
   "outputs": [
    {
     "data": {
      "application/vnd.jupyter.widget-view+json": {
       "model_id": "bccf1c1b5414420ea142599559ff68c1",
       "version_major": 2,
       "version_minor": 0
      },
      "text/plain": [
       "Select(description='Dataset:', options=('skating', 'question'), value='skating')"
      ]
     },
     "metadata": {},
     "output_type": "display_data"
    },
    {
     "data": {
      "application/vnd.jupyter.widget-view+json": {
       "model_id": "1e76185b1df940aa85c699eddf35fb9f",
       "version_major": 2,
       "version_minor": 0
      },
      "text/plain": [
       "IntSlider(value=3, description='Window: ', max=10, min=2)"
      ]
     },
     "metadata": {},
     "output_type": "display_data"
    },
    {
     "data": {
      "application/vnd.jupyter.widget-view+json": {
       "model_id": "4d97bbca892c46c0b93cea7538958ee3",
       "version_major": 2,
       "version_minor": 0
      },
      "text/plain": [
       "IntSlider(value=5, description='Stride: ', max=10, min=1)"
      ]
     },
     "metadata": {},
     "output_type": "display_data"
    },
    {
     "data": {
      "application/vnd.jupyter.widget-view+json": {
       "model_id": "fba8a9d4a0ad45ce943832ce628e41ef",
       "version_major": 2,
       "version_minor": 0
      },
      "text/plain": [
       "Label(value='Rule to check (note: you can reorder the items)')"
      ]
     },
     "metadata": {},
     "output_type": "display_data"
    },
    {
     "data": {
      "application/vnd.jupyter.widget-view+json": {
       "model_id": "02f14b529c134a5e859fb99656df0f1d",
       "version_major": 2,
       "version_minor": 0
      },
      "text/plain": [
       "TagsInput(value=['1', '10', '11'], allow_duplicates=False, allowed_tags=['16', '34', '63', '36', '8', '38', '6…"
      ]
     },
     "metadata": {},
     "output_type": "display_data"
    },
    {
     "name": "stdout",
     "output_type": "stream",
     "text": [
      "\n",
      "[['1', '29', '21', '15', '3', '1', '16', '17', '23', '9', '24', '25', '5', '6', '30', '31', '22', '7', '26', '2', '27', '10', '11', '28', '25', '12', '9', '8', '18', '15', '16', '19', '20', '17', '18', '15', '10', '13', '14', '9', '16', '17', '10', '18', '15', '32', '33', '16', '17', '26', '34', '31', '4', '18', '15', '16', '32'], ['1', '29', '23', '3', '41', '1', '24', '27', '9', '35', '28', '25', '21', '42', '39', '43', '36', '37', '44', '40', '38', '5', '6', '26', '27', '30', '31', '28', '25', '22', '26', '2', '23', '24', '27', '32', '29', '28', '30', '31', '15', '16', '19', '20', '17', '10', '13', '14', '9', '10', '18', '15', '16', '4', '32'], ['1', '29', '21', '1', '9', '45', '46', '27', '28', '23', '24', '27', '28', '25', '30', '31', '22', '2', '10', '13', '15', '14', '9', '16', '17', '10', '13', '14', '9', '10', '32', '33', '18', '15', '34', '31', '16', '17', '26', '18', '32'], ['1', '29', '41', '21', '25', '1', '17', '26', '27', '28', '9', '35', '27', '42', '28', '47', '25', '43', '36', '37', '48', '44', '26', '27', '28', '30', '31', '22', '7', '2', '38', '5', '8', '6', '10', '13', '14', '9', '18', '15', '10', '16', '17', '18', '32'], ['1', '29', '51', '27', '21', '41', '17', '1', '28', '23', '24', '27', '22', '49', '52', '9', '35', '28', '25', '42', '50', '21', '43', '36', '37', '44', '26', '27', '28', '25', '22', '7', '30', '31', '2', '32', '33', '38', '5', '34', '31', '8', '6', '26', '27', '28', '25', '18', '15', '16', '17', '10', '18', '15', '16', '17', '26', '18', '32'], ['1', '29', '51', '17', '1', '23', '52', '9', '24', '27', '21', '28', '25', '43', '44', '5', '6', '26', '23', '24', '27', '10', '13', '28', '25', '14', '9', '30', '31', '22', '7', '2', '26', '27', '8', '18', '15', '28', '25', '16', '17', '10', '18', '15', '16', '17', '18', '15', '16', '17', '26', '18', '32'], ['1', '29', '21', '3', '1', '17', '9', '45', '25', '46', '30', '31', '22', '2', '10', '13', '14', '9', '26', '27', '18', '15', '28', '25', '16', '17', '10', '18', '15', '4', '26', '16', '17', '18', '32'], ['1', '29', '15', '16', '23', '17', '21', '41', '1', '3', '9', '24', '25', '45', '42', '4', '47', '43', '46', '53', '48', '44', '5', '6', '30', '31', '22', '54', '7', '2', '8', '10', '26', '27', '18', '28', '23', '24', '32'], ['1', '29', '51', '23', '41', '17', '1', '52', '9', '35', '21', '47', '24', '42', '43', '36', '48', '3', '44', '22', '30', '31', '10', '13', '2', '14', '9', '10', '13', '14', '9', '10', '13', '18', '15', '14', '9', '10', '16', '17', '4', '18', '32'], ['1', '29', '21', '27', '3', '41', '1', '17', '28', '27', '9', '28', '4', '47', '42', '39', '43', '48', '44', '40', '5', '6', '22', '49', '30', '31', '2', '7', '8', '10', '13', '18', '15', '14', '9', '16', '17', '18', '15', '10', '13', '16', '17', '14', '9', '18', '15', '16', '17', '10', '18', '15', '16', '17', '50', '55', '18', '15', '56', '16', '32'], ['1', '19', '29', '21', '20', '15', '1', '16', '17', '9', '45', '35', '47', '36', '48', '46', '59', '30', '31', '22', '60', '2', '10', '13', '14', '9', '10', '57', '58', '18', '32'], ['1', '29', '21', '1', '17', '9', '10', '13', '14', '9', '30', '31', '22', '7', '2', '8', '10', '13', '18', '15', '16', '17', '14', '9', '10', '18', '15', '16', '17', '32', '33', '34', '31', '18', '32'], ['1', '29', '19', '21', '41', '20', '15', '3', '1', '16', '17', '45', '9', '27', '35', '61', '42', '28', '25', '36', '46', '62', '30', '31', '22', '2', '18', '15', '16', '17', '10', '13', '18', '15', '14', '9', '16', '17', '10', '18', '4', '26', '32'], ['1', '29', '21', '1', '3', '17', '25', '9', '45', '4', '47', '48', '46', '30', '31', '22', '2', '18', '15', '16', '17', '18', '15', '10', '13', '16', '17', '18', '15', '14', '9', '16', '17', '10', '18', '26', '32'], ['1', '29', '15', '21', '16', '17', '1', '25', '9', '47', '48', '26', '27', '28', '30', '31', '22', '2', '18', '15', '16', '17', '18', '15', '10', '13', '14', '9', '16', '17', '10', '18', '15', '16', '19', '20', '32'], ['2', '29', '21', '3', '17', '1', '9', '25', '22', '30', '31', '26', '27', '2', '28', '25', '10', '13', '14', '9', '18', '15', '10', '16', '17', '26', '18', '23', '4', '24', '32'], ['2', '29', '3', '21', '1', '17', '45', '35', '9', '23', '24', '4', '47', '25', '43', '39', '36', '46', '48', '3', '44', '40', '30', '31', '22', '2', '10', '32', '33', '18', '34', '31', '4', '26', '32'], ['2', '29', '19', '20', '21', '17', '23', '3', '1', '9', '45', '24', '25', '46', '30', '31', '22', '49', '2', '26', '27', '5', '28', '25', '6', '10', '18', '15', '16', '17', '18', '15', '16', '17', '50', '55', '4', '18', '15', '26', '56', '16', '32'], ['2', '19', '29', '20', '15', '21', '16', '17', '1', '9', '25', '30', '31', '22', '7', '26', '27', '2', '28', '23', '5', '24', '27', '28', '25', '8', '26', '27', '6', '28', '10', '18', '32'], ['2', '29', '27', '19', '21', '28', '25', '20', '17', '1', '26', '23', '9', '24', '63', '25', '64', '30', '31', '22', '49', '2', '10', '32', '29', '30', '31', '32', '33', '18', '50', '55', '26', '34', '31', '56', '32'], ['2', '29', '25', '51', '21', '1', '17', '26', '27', '52', '61', '9', '28', '25', '62', '59', '30', '31', '22', '49', '60', '7', '26', '27', '10', '11', '2', '8', '28', '25', '12', '9', '10', '13', '14', '9', '18', '15', '10', '16', '17', '18', '15', '16', '17', '18', '15', '57', '50', '55', '58', '26', '16', '56', '32'], ['2', '29', '21', '15', '1', '16', '17', '23', '9', '24', '27', '28', '30', '31', '22', '7', '2', '5', '32', '33', '10', '13', '8', '34', '31', '14', '9', '6', '10', '18', '15', '16', '32'], ['2', '29', '21', '41', '1', '27', '9', '35', '42', '28', '25', '36', '37', '30', '31', '22', '10', '13', '7', '14', '9', '2', '38', '5', '8', '6', '10', '15', '16', '17', '32', '33', '18', '15', '34', '31', '16', '26', '32'], ['2', '29', '21', '17', '1', '23', '9', '24', '45', '46', '53', '30', '31', '22', '54', '7', '32', '33', '2', '34', '31', '8', '10', '18', '15', '16', '17', '18', '15', '16', '17', '18', '32'], ['2', '29', '21', '1', '17', '9', '45', '46', '30', '31', '22', '2', '10', '18', '15', '16', '17', '18', '27', '28', '32'], ['2', '29', '25', '21', '1', '26', '17', '27', '9', '28', '25', '47', '48', '22', '30', '31', '26', '27', '2', '5', '10', '28', '25', '6', '18', '15', '16', '17', '18', '15', '26', '16', '19', '20', '32'], ['2', '29', '51', '21', '1', '17', '52', '61', '35', '45', '9', '63', '25', '36', '46', '64', '30', '31', '22', '2', '10', '18', '15', '16', '17', '26', '27', '18', '15', '28', '25', '16', '17', '26', '23', '18', '15', '24', '16', '62', '32'], ['2', '29', '25', '21', '41', '17', '1', '26', '27', '28', '9', '35', '27', '45', '42', '28', '25', '36', '37', '46', '53', '30', '31', '54', '7', '22', '10', '2', '38', '5', '8', '6', '18', '32', '33', '26', '27', '34', '31', '28', '32'], ['2', '29', '25', '21', '1', '17', '26', '27', '45', '9', '35', '47', '28', '25', '63', '36', '64', '46', '53', '48', '3', '59', '30', '31', '22', '60', '54', '7', '2', '8', '10', '18', '15', '16', '17', '18', '4', '26', '32'], ['3', '29', '21', '41', '17', '1', '61', '9', '45', '27', '42', '63', '28', '25', '64', '46', '53', '62', '59', '30', '31', '60', '22', '54', '7', '10', '13', '2', '14', '9', '8', '10', '18', '15', '16', '19', '20', '15', '32', '33', '16', '17', '34', '31', '18', '15', '16', '19', '26', '20', '32'], ['3', '29', '21', '1', '17', '23', '9', '24', '27', '28', '25', '30', '31', '22', '2', '10', '18', '15', '26', '16', '32'], ['3', '29', '15', '21', '1', '16', '17', '45', '9', '47', '25', '46', '53', '48', '30', '31', '22', '54', '7', '2', '8', '10', '18', '15', '16', '17', '18', '15', '16', '17', '18', '32', '33', '26', '34', '31', '32'], ['3', '29', '21', '25', '1', '17', '26', '27', '28', '23', '9', '24', '63', '64', '30', '31', '22', '10', '13', '32', '33', '2', '14', '9', '34', '31', '10', '18', '15', '16', '17', '18', '15', '16', '19', '20', '32'], ['3', '29', '21', '17', '1', '27', '9', '45', '28', '25', '46', '30', '31', '22', '2', '10', '26', '18', '15', '16', '32'], ['3', '29', '21', '17', '1', '23', '9', '22', '49', '24', '27', '50', '21', '28', '25', '30', '31', '22', '5', '2', '10', '13', '6', '14', '9', '10', '13', '14', '9', '10', '26', '18', '32'], ['3', '29', '21', '17', '1', '23', '24', '27', '9', '28', '25', '30', '31', '22', '49', '7', '2', '8', '10', '18', '15', '16', '17', '26', '27', '18', '15', '50', '55', '16', '19', '56', '28', '20', '32'], ['3', '29', '17', '21', '1', '23', '9', '24', '27', '28', '25', '30', '31', '22', '49', '2', '65', '5', '10', '13', '6', '37', '14', '9', '10', '13', '18', '15', '16', '17', '18', '15', '16', '17', '32', '33', '18', '15', '34', '26', '27', '29', '51', '50', '21', '16', '66', '17', '1', '52', '14', '9', '63', '28', '25', '64', '67', '30', '31', '22', '49', '7', '2', '38', '5', '8', '6', '18', '15', '10', '13', '16', '17', '14', '9', '68', '57', '10', '18', '15', '50', '26', '55', '27', '58', '28', '23', '16', '24', '56', '32'], ['3', '29', '25', '21', '1', '17', '26', '23', '9', '24', '47', '25', '48', '3', '30', '31', '22', '49', '2', '10', '18', '15', '50', '55', '4', '26', '56', '16', '32'], ['3', '29', '1', '21', '17', '9', '25', '63', '64', '30', '31', '22', '49', '7', '2', '5', '8', '6', '10', '13', '18', '15', '16', '17', '18', '15', '16', '17', '14', '9', '32', '33', '10', '18', '34', '31', '50', '55', '56', '26', '32'], ['3', '29', '25', '21', '1', '17', '26', '27', '28', '9', '47', '48', '30', '31', '22', '2', '10', '32', '33', '18', '15', '34', '31', '16', '32'], ['3', '29', '15', '27', '1', '16', '17', '21', '35', '9', '47', '28', '43', '36', '48', '44', '30', '31', '22', '7', '2', '8', '10', '13', '18', '15', '14', '9', '10', '16', '17', '18', '32'], ['3', '29', '21', '27', '1', '17', '61', '9', '28', '45', '25', '63', '64', '67', '46', '53', '30', '31', '54', '7', '22', '49', '26', '27', '2', '5', '28', '25', '8', '6', '10', '18', '15', '16', '17', '18', '15', '16', '17', '68', '57', '18', '15', '26', '27', '58', '50', '55', '16', '17', '18', '15', '28', '56', '62', '16', '32'], ['3', '29', '15', '21', '41', '3', '1', '16', '17', '45', '9', '42', '4', '47', '25', '43', '39', '46', '53', '48', '3', '44', '40', '30', '31', '22', '49', '54', '7', '2', '10', '13', '5', '8', '14', '9', '6', '10', '18', '50', '55', '26', '27', '4', '28', '56', '32'], ['4', '29', '21', '17', '1', '25', '26', '23', '9', '24', '27', '28', '25', '63', '43', '64', '44', '30', '31', '22', '10', '2', '18', '26', '32'], ['4', '29', '21', '25', '1', '17', '26', '27', '9', '63', '28', '25', '64', '67', '30', '31', '22', '2', '10', '68', '57', '18', '32', '33', '34', '31', '58', '26', '32'], ['4', '29', '21', '17', '1', '9', '45', '25', '46', '30', '31', '22', '49', '2', '10', '18', '15', '57', '26', '50', '55', '58', '16', '56', '32'], ['4', '29', '15', '21', '16', '17', '1', '9', '45', '25', '46', '10', '11', '12', '9', '30', '31', '22', '49', '2', '10', '18', '15', '16', '17', '18', '50', '55', '26', '27', '28', '56', '32'], ['4', '29', '21', '17', '1', '9', '63', '25', '64', '30', '31', '22', '49', '2', '10', '18', '15', '16', '17', '18', '26', '50', '55', '56', '32'], ['4', '29', '21', '23', '1', '17', '9', '24', '25', '43', '44', '22', '30', '49', '31', '7', '2', '5', '8', '6', '10', '13', '14', '9', '18', '15', '10', '13', '16', '17', '14', '9', '10', '18', '15', '26', '27', '50', '55', '28', '16', '56', '32'], ['4', '29', '27', '21', '1', '17', '9', '63', '28', '25', '43', '44', '64', '30', '31', '22', '2', '10', '18', '15', '16', '17', '18', '15', '32', '33', '16', '17', '18', '15', '34', '31', '26', '16', '32']]\n"
     ]
    }
   ],
   "source": [
    "# Widgets\n",
    "input_dataset = widgets.Select(\n",
    "    options=['skating','question'],\n",
    "    value='skating',\n",
    "    description='Dataset:',\n",
    "    disabled=False,\n",
    ")\n",
    "input_window = widgets.IntSlider(\n",
    "    value=selected_window,\n",
    "    min=2,\n",
    "    max=10,\n",
    "    step=1,\n",
    "    description='Window: ',\n",
    "    disabled=False,\n",
    "    continuous_update=True,\n",
    "    orientation='horizontal',\n",
    "    readout=True,\n",
    "    readout_format='d'\n",
    ")\n",
    "input_stride = widgets.IntSlider(\n",
    "    value=selected_stride,\n",
    "    min=1,\n",
    "    max=10,\n",
    "    step=1,\n",
    "    description='Stride: ',\n",
    "    disabled=False,\n",
    "    continuous_update=True,\n",
    "    orientation='horizontal',\n",
    "    readout=True,\n",
    "    readout_format='d'\n",
    ")\n",
    "input_items = widgets.TagsInput(\n",
    "    description= 'Rule to be checked: ',\n",
    "    value=sorted(list(possible_rules))[0:input_window.value],\n",
    "    allowed_tags=list(possible_rules),\n",
    "    allow_duplicates=False\n",
    ")\n",
    "\n",
    "\n",
    "# Updating values\n",
    "def on_value_change(change):\n",
    "    global input_window, input_dataset, input_items\n",
    "    \n",
    "    possible_rules = check_possible_rules(input_dataset.value)\n",
    "    \n",
    "    input_items.value = sorted(list(possible_rules))[0:input_window.value]\n",
    "    \n",
    "    input_items.allowed_tags = sorted(list(possible_rules))\n",
    "    \n",
    "def on_dataset_change(change):\n",
    "    global input_window, input_dataset, input_items\n",
    "    \n",
    "    possible_rules = check_possible_rules(input_dataset.value)\n",
    "    \n",
    "    input_items.allowed_tags = sorted(list(possible_rules))\n",
    "    \n",
    "    input_items.value = sorted(list(possible_rules))[0:input_window.value]\n",
    "\n",
    "\n",
    "# Attaching update functions\n",
    "input_window.observe(on_value_change, names='value')\n",
    "input_dataset.observe(on_dataset_change, names='value')\n",
    "\n",
    "button = widgets.Button(\n",
    "    description='Calculate support',\n",
    "    disabled=False,\n",
    "    button_style='', \n",
    "    tooltip='Calculate support',\n",
    "    icon='check'\n",
    ")\n",
    "\n",
    "# Display widgets\n",
    "display(input_dataset,input_window,input_stride,widgets.Label(value=\"Rule to check (note: you can reorder the items)\"),input_items)\n",
    "print(\"\")\n",
    "#display(button)\n",
    "\n",
    "\n",
    "print(load_dataset(selected_dataset))\n"
   ]
  },
  {
   "cell_type": "markdown",
   "metadata": {},
   "source": [
    "## Compute support value"
   ]
  },
  {
   "cell_type": "code",
   "execution_count": 44,
   "metadata": {},
   "outputs": [
    {
     "name": "stdout",
     "output_type": "stream",
     "text": [
      "Window 2, stride 1, dataset question\n",
      "Looking for string ['0', '1']\n"
     ]
    }
   ],
   "source": [
    "selected_dataset = input_dataset.value\n",
    "selected_window = input_window.value\n",
    "selected_stride = input_stride.value\n",
    "selected_items = input_items.value\n",
    "possible_rules = check_possible_rules(selected_dataset)\n",
    "dataset = load_dataset(selected_dataset)\n",
    "\n",
    "print(f\"Window {selected_window}, stride {selected_stride}, dataset {selected_dataset}\")\n",
    "print(f\"Looking for string {selected_items}\")"
   ]
  },
  {
   "cell_type": "code",
   "execution_count": 45,
   "metadata": {},
   "outputs": [
    {
     "name": "stdout",
     "output_type": "stream",
     "text": [
      "Found in ('0', '1')\n",
      "Found in ('0', '1')\n",
      "Found in ('0', '1')\n",
      "Found in ('0', '1')\n",
      "4 entries found\n",
      "La regola ['0', '1'] viene trovata in 4 window su 497 window totali; ha quindi un supporto di 0.008\n"
     ]
    }
   ],
   "source": [
    "# 1. Calcolo di tutte le sottostringhe\n",
    "substrings = []\n",
    "# scorre the array in batches of windows and saves the window in substring\n",
    "for item in dataset:\n",
    "    i = 0\n",
    "    while i < (len(item)-selected_window+1):\n",
    "        j = 0\n",
    "        current_string = []\n",
    "        while j < selected_window:\n",
    "            current_string.append(item[i+j])\n",
    "            j += 1\n",
    "            \n",
    "        substrings.append(tuple(current_string))\n",
    "        i += selected_stride\n",
    "\n",
    "\n",
    "# 2. Calcolo di quante sottostringhe contengono la mia sottostringa magica\n",
    "count_found = 0\n",
    "for item in substrings:\n",
    "    if trova_sottostringa(selected_items,item):\n",
    "        print(f\"Found in {item}\")\n",
    "        count_found += 1\n",
    "\n",
    "print(f\"{count_found} entries found\")\n",
    "\n",
    "#print(substrings.__str__().replace(\"\\n\",\"   \"))\n",
    "\n",
    "# 3. Calcolo il supporto della mia sottostringa\n",
    "print(f\"La regola {selected_items} viene trovata in {count_found} window su {len(substrings)} window totali; ha quindi un supporto di {count_found/len(substrings):4.3f}\")\n",
    "\n"
   ]
  },
  {
   "cell_type": "code",
   "execution_count": null,
   "metadata": {},
   "outputs": [],
   "source": []
  }
 ],
 "metadata": {
  "kernelspec": {
   "display_name": "Python 3 (ipykernel)",
   "language": "python",
   "name": "python3"
  },
  "language_info": {
   "codemirror_mode": {
    "name": "ipython",
    "version": 3
   },
   "file_extension": ".py",
   "mimetype": "text/x-python",
   "name": "python",
   "nbconvert_exporter": "python",
   "pygments_lexer": "ipython3",
   "version": "3.9.0"
  }
 },
 "nbformat": 4,
 "nbformat_minor": 4
}
