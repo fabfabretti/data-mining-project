{
 "cells": [
  {
   "cell_type": "markdown",
   "metadata": {},
   "source": [
    "# Esercizio 1"
   ]
  },
  {
   "cell_type": "code",
   "execution_count": 6,
   "metadata": {},
   "outputs": [
    {
     "name": "stdout",
     "output_type": "stream",
     "text": [
      "Window 3, stride 3, dataset skating\n",
      "Looking for string ['1', '29']\n"
     ]
    }
   ],
   "source": [
    "# All parameters\n",
    "selected_dataset_name : str = \"skating\" # skating, question\n",
    "selected_window : int = 3\n",
    "selected_stride : int = 3\n",
    "selected_items : list = [\"1\",\"29\"] # Sottosequenza da verificare\n",
    "\n",
    "print(f\"Window {selected_window}, stride {selected_stride}, dataset {selected_dataset_name}\")\n",
    "print(f\"Looking for string {selected_items}\")"
   ]
  },
  {
   "cell_type": "markdown",
   "metadata": {},
   "source": [
    "1. Caricamento dataset"
   ]
  },
  {
   "cell_type": "code",
   "execution_count": 7,
   "metadata": {},
   "outputs": [
    {
     "name": "stdout",
     "output_type": "stream",
     "text": [
      "Dataset skating loaded! 530 entries.\n",
      "Sample entry: ['1', '29', '21', '15', '3', '1', '16', '17', '23', '9', '24', '25', '5', '6', '30', '31', '22', '7', '26', '2', '27', '10', '11', '28', '25', '12', '9', '8', '18', '15', '16', '19', '20', '17', '18', '15', '10', '13', '14', '9', '16', '17', '10', '18', '15', '32', '33', '16', '17', '26', '34', '31', '4', '18', '15', '16', '32']\n"
     ]
    }
   ],
   "source": [
    "# Load  dataset from .txt\n",
    "\n",
    "def load_dataset(selected_dataset)-> list: \n",
    "    dataset = []\n",
    "    with open('datasets/'+selected_dataset+'.txt') as f:\n",
    "        lines = f.read().splitlines()\n",
    "        for l in lines: \n",
    "            dataset.append(l.replace(\"\\t\",\" \").split(\" \"))\n",
    "    print(f\"Dataset {selected_dataset} loaded! {len(dataset)} entries.\")\n",
    "    print(f\"Sample entry: {dataset[0]}\")\n",
    "    return dataset\n",
    "\n",
    "dataset = load_dataset(\"skating\")"
   ]
  },
  {
   "cell_type": "markdown",
   "metadata": {},
   "source": [
    "2. Trovo tutte le possibili sottosequenze come definite in classe (via window/stride)"
   ]
  },
  {
   "cell_type": "code",
   "execution_count": 8,
   "metadata": {},
   "outputs": [
    {
     "name": "stdout",
     "output_type": "stream",
     "text": [
      "Ho generato 8507 sequenze. Prime 10 transazioni generate: \n",
      "('1', '29', '21')\n",
      "('15', '3', '1')\n",
      "('16', '17', '23')\n",
      "('9', '24', '25')\n",
      "('5', '6', '30')\n",
      "('31', '22', '7')\n",
      "('26', '2', '27')\n",
      "('10', '11', '28')\n",
      "('25', '12', '9')\n",
      "('8', '18', '15')\n"
     ]
    }
   ],
   "source": [
    "def generate_transactions(window:int,stride:int,dataset:list)->list:\n",
    "    generated_transactions = []\n",
    "    for item in dataset: # per ogni riga\n",
    "        i = 0\n",
    "        while i < (len(item)-window+1): # scorro la riga finché non ci sta la prossima finestra\n",
    "            j = 0\n",
    "            current_string = []\n",
    "\n",
    "            while j < window: # scorro la finestra\n",
    "                current_string.append(item[i+j])\n",
    "                j += 1\n",
    "            generated_transactions.append(tuple(current_string)) # salvo la transazione\n",
    "            i += stride\n",
    "\n",
    "    print(f\"Ho generato {len(generated_transactions)} sequenze. Prime 10 transazioni generate: \")\n",
    "    [print(entry) for entry in generated_transactions[:10]]\n",
    "    return(generated_transactions)\n",
    "\n",
    "all_transactions = generate_transactions(selected_window,selected_stride,dataset)"
   ]
  },
  {
   "cell_type": "markdown",
   "metadata": {},
   "source": [
    "3. Calcolo quante sottostringhe contengono la mia sottostringa magica"
   ]
  },
  {
   "cell_type": "markdown",
   "metadata": {},
   "source": [
    "3a. Funzione per verificare se una stringa è sottostringa di un'altra, con la definizione data in classe"
   ]
  },
  {
   "cell_type": "code",
   "execution_count": 9,
   "metadata": {},
   "outputs": [
    {
     "name": "stdout",
     "output_type": "stream",
     "text": [
      "'co' è dentro 'ciao': True. \n",
      "'coo' è dentro 'ciao': False.\n"
     ]
    }
   ],
   "source": [
    "# Checks if a string is substring (with the definition given in class) of another\n",
    "def is_substring_present(sottostringa, sovrastringa)->bool:\n",
    "    sottostringa = list(sottostringa)\n",
    "    sovrastringa = list(sovrastringa)\n",
    "    indice_sottostringa = 0\n",
    "    for lettera in sovrastringa:\n",
    "        if lettera == sottostringa[indice_sottostringa]:\n",
    "            indice_sottostringa += 1\n",
    "            if indice_sottostringa == len(sottostringa):\n",
    "                return True\n",
    "    return False\n",
    "\n",
    "#For example\n",
    "print(f\"'co' è dentro 'ciao': {is_substring_present(\"co\",\"ciao\")}. \\n'coo' è dentro 'ciao': {is_substring_present(\"coo\",\"ciao\")}.\")"
   ]
  },
  {
   "cell_type": "markdown",
   "metadata": {},
   "source": [
    "3b. Conto le occorrenze effettive."
   ]
  },
  {
   "cell_type": "code",
   "execution_count": 10,
   "metadata": {},
   "outputs": [
    {
     "name": "stdout",
     "output_type": "stream",
     "text": [
      "65 entries found\n",
      "La regola ['1', '29'] viene trovata in 65 transazioni su 8507 transazioni generate in totale; ha quindi un supporto di 0.008\n"
     ]
    }
   ],
   "source": [
    "def count_occurrences(substrings, rule)->int:\n",
    "    count_found = 0\n",
    "    for item in substrings:\n",
    "        if is_substring_present(rule,item):\n",
    "            #print(f\"Found in {item}\")\n",
    "            count_found += 1\n",
    "    print(f\"{count_found} entries found\")\n",
    "    return count_found\n",
    "\n",
    "count_found=count_occurrences(all_transactions,selected_items)\n",
    "\n",
    "# 3. Calcolo il supporto della mia sottostringa\n",
    "\n",
    "print(f\"La regola {selected_items} viene trovata in {count_found} transazioni su {len(all_transactions)} transazioni generate in totale; ha quindi un supporto di {count_found/len(all_transactions):4.3f}\")\n",
    "\n"
   ]
  }
 ],
 "metadata": {
  "kernelspec": {
   "display_name": "Python 3 (ipykernel)",
   "language": "python",
   "name": "python3"
  },
  "language_info": {
   "codemirror_mode": {
    "name": "ipython",
    "version": 3
   },
   "file_extension": ".py",
   "mimetype": "text/x-python",
   "name": "python",
   "nbconvert_exporter": "python",
   "pygments_lexer": "ipython3",
   "version": "3.12.1"
  }
 },
 "nbformat": 4,
 "nbformat_minor": 4
}
